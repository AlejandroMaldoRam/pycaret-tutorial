{
 "cells": [
  {
   "cell_type": "markdown",
   "id": "81d7afe7-b8d0-4c96-941b-dc2b05647cb1",
   "metadata": {},
   "source": [
    "# Deploy model\n",
    "\n",
    "* PyCaret offers a couple of options to run a model:\n",
    "    * as a dashboard using gradio.\n",
    "    * as an API using FastAPI.\n",
    "    * as a container using Docker."
   ]
  },
  {
   "cell_type": "code",
   "execution_count": 1,
   "id": "79832a40-1e9d-49e2-a71e-7410faca8763",
   "metadata": {},
   "outputs": [],
   "source": [
    "from pycaret.classification import *\n",
    "import pandas as pd"
   ]
  },
  {
   "cell_type": "code",
   "execution_count": 2,
   "id": "0d029366-da8c-420c-a5dc-ae96a38b7908",
   "metadata": {},
   "outputs": [
    {
     "data": {
      "text/html": [
       "<style type=\"text/css\">\n",
       "#T_5b3ae_row9_col1 {\n",
       "  background-color: lightgreen;\n",
       "}\n",
       "</style>\n",
       "<table id=\"T_5b3ae\">\n",
       "  <thead>\n",
       "    <tr>\n",
       "      <th class=\"blank level0\" >&nbsp;</th>\n",
       "      <th id=\"T_5b3ae_level0_col0\" class=\"col_heading level0 col0\" >Description</th>\n",
       "      <th id=\"T_5b3ae_level0_col1\" class=\"col_heading level0 col1\" >Value</th>\n",
       "    </tr>\n",
       "  </thead>\n",
       "  <tbody>\n",
       "    <tr>\n",
       "      <th id=\"T_5b3ae_level0_row0\" class=\"row_heading level0 row0\" >0</th>\n",
       "      <td id=\"T_5b3ae_row0_col0\" class=\"data row0 col0\" >Session id</td>\n",
       "      <td id=\"T_5b3ae_row0_col1\" class=\"data row0 col1\" >1</td>\n",
       "    </tr>\n",
       "    <tr>\n",
       "      <th id=\"T_5b3ae_level0_row1\" class=\"row_heading level0 row1\" >1</th>\n",
       "      <td id=\"T_5b3ae_row1_col0\" class=\"data row1 col0\" >Target</td>\n",
       "      <td id=\"T_5b3ae_row1_col1\" class=\"data row1 col1\" >diagnosis</td>\n",
       "    </tr>\n",
       "    <tr>\n",
       "      <th id=\"T_5b3ae_level0_row2\" class=\"row_heading level0 row2\" >2</th>\n",
       "      <td id=\"T_5b3ae_row2_col0\" class=\"data row2 col0\" >Target type</td>\n",
       "      <td id=\"T_5b3ae_row2_col1\" class=\"data row2 col1\" >Binary</td>\n",
       "    </tr>\n",
       "    <tr>\n",
       "      <th id=\"T_5b3ae_level0_row3\" class=\"row_heading level0 row3\" >3</th>\n",
       "      <td id=\"T_5b3ae_row3_col0\" class=\"data row3 col0\" >Target mapping</td>\n",
       "      <td id=\"T_5b3ae_row3_col1\" class=\"data row3 col1\" >B: 0, M: 1</td>\n",
       "    </tr>\n",
       "    <tr>\n",
       "      <th id=\"T_5b3ae_level0_row4\" class=\"row_heading level0 row4\" >4</th>\n",
       "      <td id=\"T_5b3ae_row4_col0\" class=\"data row4 col0\" >Original data shape</td>\n",
       "      <td id=\"T_5b3ae_row4_col1\" class=\"data row4 col1\" >(569, 32)</td>\n",
       "    </tr>\n",
       "    <tr>\n",
       "      <th id=\"T_5b3ae_level0_row5\" class=\"row_heading level0 row5\" >5</th>\n",
       "      <td id=\"T_5b3ae_row5_col0\" class=\"data row5 col0\" >Transformed data shape</td>\n",
       "      <td id=\"T_5b3ae_row5_col1\" class=\"data row5 col1\" >(569, 32)</td>\n",
       "    </tr>\n",
       "    <tr>\n",
       "      <th id=\"T_5b3ae_level0_row6\" class=\"row_heading level0 row6\" >6</th>\n",
       "      <td id=\"T_5b3ae_row6_col0\" class=\"data row6 col0\" >Transformed train set shape</td>\n",
       "      <td id=\"T_5b3ae_row6_col1\" class=\"data row6 col1\" >(398, 32)</td>\n",
       "    </tr>\n",
       "    <tr>\n",
       "      <th id=\"T_5b3ae_level0_row7\" class=\"row_heading level0 row7\" >7</th>\n",
       "      <td id=\"T_5b3ae_row7_col0\" class=\"data row7 col0\" >Transformed test set shape</td>\n",
       "      <td id=\"T_5b3ae_row7_col1\" class=\"data row7 col1\" >(171, 32)</td>\n",
       "    </tr>\n",
       "    <tr>\n",
       "      <th id=\"T_5b3ae_level0_row8\" class=\"row_heading level0 row8\" >8</th>\n",
       "      <td id=\"T_5b3ae_row8_col0\" class=\"data row8 col0\" >Numeric features</td>\n",
       "      <td id=\"T_5b3ae_row8_col1\" class=\"data row8 col1\" >31</td>\n",
       "    </tr>\n",
       "    <tr>\n",
       "      <th id=\"T_5b3ae_level0_row9\" class=\"row_heading level0 row9\" >9</th>\n",
       "      <td id=\"T_5b3ae_row9_col0\" class=\"data row9 col0\" >Preprocess</td>\n",
       "      <td id=\"T_5b3ae_row9_col1\" class=\"data row9 col1\" >True</td>\n",
       "    </tr>\n",
       "    <tr>\n",
       "      <th id=\"T_5b3ae_level0_row10\" class=\"row_heading level0 row10\" >10</th>\n",
       "      <td id=\"T_5b3ae_row10_col0\" class=\"data row10 col0\" >Imputation type</td>\n",
       "      <td id=\"T_5b3ae_row10_col1\" class=\"data row10 col1\" >simple</td>\n",
       "    </tr>\n",
       "    <tr>\n",
       "      <th id=\"T_5b3ae_level0_row11\" class=\"row_heading level0 row11\" >11</th>\n",
       "      <td id=\"T_5b3ae_row11_col0\" class=\"data row11 col0\" >Numeric imputation</td>\n",
       "      <td id=\"T_5b3ae_row11_col1\" class=\"data row11 col1\" >mean</td>\n",
       "    </tr>\n",
       "    <tr>\n",
       "      <th id=\"T_5b3ae_level0_row12\" class=\"row_heading level0 row12\" >12</th>\n",
       "      <td id=\"T_5b3ae_row12_col0\" class=\"data row12 col0\" >Categorical imputation</td>\n",
       "      <td id=\"T_5b3ae_row12_col1\" class=\"data row12 col1\" >mode</td>\n",
       "    </tr>\n",
       "    <tr>\n",
       "      <th id=\"T_5b3ae_level0_row13\" class=\"row_heading level0 row13\" >13</th>\n",
       "      <td id=\"T_5b3ae_row13_col0\" class=\"data row13 col0\" >Fold Generator</td>\n",
       "      <td id=\"T_5b3ae_row13_col1\" class=\"data row13 col1\" >StratifiedKFold</td>\n",
       "    </tr>\n",
       "    <tr>\n",
       "      <th id=\"T_5b3ae_level0_row14\" class=\"row_heading level0 row14\" >14</th>\n",
       "      <td id=\"T_5b3ae_row14_col0\" class=\"data row14 col0\" >Fold Number</td>\n",
       "      <td id=\"T_5b3ae_row14_col1\" class=\"data row14 col1\" >10</td>\n",
       "    </tr>\n",
       "    <tr>\n",
       "      <th id=\"T_5b3ae_level0_row15\" class=\"row_heading level0 row15\" >15</th>\n",
       "      <td id=\"T_5b3ae_row15_col0\" class=\"data row15 col0\" >CPU Jobs</td>\n",
       "      <td id=\"T_5b3ae_row15_col1\" class=\"data row15 col1\" >-1</td>\n",
       "    </tr>\n",
       "    <tr>\n",
       "      <th id=\"T_5b3ae_level0_row16\" class=\"row_heading level0 row16\" >16</th>\n",
       "      <td id=\"T_5b3ae_row16_col0\" class=\"data row16 col0\" >Use GPU</td>\n",
       "      <td id=\"T_5b3ae_row16_col1\" class=\"data row16 col1\" >False</td>\n",
       "    </tr>\n",
       "    <tr>\n",
       "      <th id=\"T_5b3ae_level0_row17\" class=\"row_heading level0 row17\" >17</th>\n",
       "      <td id=\"T_5b3ae_row17_col0\" class=\"data row17 col0\" >Log Experiment</td>\n",
       "      <td id=\"T_5b3ae_row17_col1\" class=\"data row17 col1\" >False</td>\n",
       "    </tr>\n",
       "    <tr>\n",
       "      <th id=\"T_5b3ae_level0_row18\" class=\"row_heading level0 row18\" >18</th>\n",
       "      <td id=\"T_5b3ae_row18_col0\" class=\"data row18 col0\" >Experiment Name</td>\n",
       "      <td id=\"T_5b3ae_row18_col1\" class=\"data row18 col1\" >clf-default-name</td>\n",
       "    </tr>\n",
       "    <tr>\n",
       "      <th id=\"T_5b3ae_level0_row19\" class=\"row_heading level0 row19\" >19</th>\n",
       "      <td id=\"T_5b3ae_row19_col0\" class=\"data row19 col0\" >USI</td>\n",
       "      <td id=\"T_5b3ae_row19_col1\" class=\"data row19 col1\" >7549</td>\n",
       "    </tr>\n",
       "  </tbody>\n",
       "</table>\n"
      ],
      "text/plain": [
       "<pandas.io.formats.style.Styler at 0x1d3ad0dff40>"
      ]
     },
     "metadata": {},
     "output_type": "display_data"
    },
    {
     "data": {
      "text/plain": [
       "<pycaret.classification.oop.ClassificationExperiment at 0x1d3e66ba880>"
      ]
     },
     "execution_count": 2,
     "metadata": {},
     "output_type": "execute_result"
    }
   ],
   "source": [
    "# Setup\n",
    "df = pd.read_csv(\"../../datasets/breast_cancer/wdbc.data\", sep=',', header=None)\n",
    "columns = ['id', 'diagnosis', 'radius_mean', 'texture_mean', 'perimeter_mean', 'area_mean', 'smoothness_mean', 'compactness_mean', 'concavity_mean', 'concave points_mean', 'symmetry_mean', 'fractal_dimension_mean', 'radius_se', 'texture_se', 'perimeter_se', 'area_se', 'smoothness_se', 'compactness_se', 'concavity_se', 'concave points_se', 'symmetry_se', 'fractal_dimension_se', 'radius_worst', 'texture_worst','perimeter_worst', 'area_worst', 'smoothness_worst','compactness_worst', 'concavity_worst', 'concave points_worst', 'symmetry_worst', 'fractal_dimension_worst']\n",
    "df.columns = columns\n",
    "exp = ClassificationExperiment()\n",
    "exp.setup(data=df, target=\"diagnosis\", session_id=1) # we'll use the default configuration"
   ]
  },
  {
   "cell_type": "code",
   "execution_count": 3,
   "id": "f829355a-972a-44e4-9353-6a37a3644da1",
   "metadata": {},
   "outputs": [
    {
     "data": {
      "text/html": [],
      "text/plain": [
       "<IPython.core.display.HTML object>"
      ]
     },
     "metadata": {},
     "output_type": "display_data"
    },
    {
     "data": {
      "text/html": [
       "<style type=\"text/css\">\n",
       "#T_113d1_row10_col0, #T_113d1_row10_col1, #T_113d1_row10_col2, #T_113d1_row10_col3, #T_113d1_row10_col4, #T_113d1_row10_col5, #T_113d1_row10_col6 {\n",
       "  background: yellow;\n",
       "}\n",
       "</style>\n",
       "<table id=\"T_113d1\">\n",
       "  <thead>\n",
       "    <tr>\n",
       "      <th class=\"blank level0\" >&nbsp;</th>\n",
       "      <th id=\"T_113d1_level0_col0\" class=\"col_heading level0 col0\" >Accuracy</th>\n",
       "      <th id=\"T_113d1_level0_col1\" class=\"col_heading level0 col1\" >AUC</th>\n",
       "      <th id=\"T_113d1_level0_col2\" class=\"col_heading level0 col2\" >Recall</th>\n",
       "      <th id=\"T_113d1_level0_col3\" class=\"col_heading level0 col3\" >Prec.</th>\n",
       "      <th id=\"T_113d1_level0_col4\" class=\"col_heading level0 col4\" >F1</th>\n",
       "      <th id=\"T_113d1_level0_col5\" class=\"col_heading level0 col5\" >Kappa</th>\n",
       "      <th id=\"T_113d1_level0_col6\" class=\"col_heading level0 col6\" >MCC</th>\n",
       "    </tr>\n",
       "    <tr>\n",
       "      <th class=\"index_name level0\" >Fold</th>\n",
       "      <th class=\"blank col0\" >&nbsp;</th>\n",
       "      <th class=\"blank col1\" >&nbsp;</th>\n",
       "      <th class=\"blank col2\" >&nbsp;</th>\n",
       "      <th class=\"blank col3\" >&nbsp;</th>\n",
       "      <th class=\"blank col4\" >&nbsp;</th>\n",
       "      <th class=\"blank col5\" >&nbsp;</th>\n",
       "      <th class=\"blank col6\" >&nbsp;</th>\n",
       "    </tr>\n",
       "  </thead>\n",
       "  <tbody>\n",
       "    <tr>\n",
       "      <th id=\"T_113d1_level0_row0\" class=\"row_heading level0 row0\" >0</th>\n",
       "      <td id=\"T_113d1_row0_col0\" class=\"data row0 col0\" >1.0000</td>\n",
       "      <td id=\"T_113d1_row0_col1\" class=\"data row0 col1\" >1.0000</td>\n",
       "      <td id=\"T_113d1_row0_col2\" class=\"data row0 col2\" >1.0000</td>\n",
       "      <td id=\"T_113d1_row0_col3\" class=\"data row0 col3\" >1.0000</td>\n",
       "      <td id=\"T_113d1_row0_col4\" class=\"data row0 col4\" >1.0000</td>\n",
       "      <td id=\"T_113d1_row0_col5\" class=\"data row0 col5\" >1.0000</td>\n",
       "      <td id=\"T_113d1_row0_col6\" class=\"data row0 col6\" >1.0000</td>\n",
       "    </tr>\n",
       "    <tr>\n",
       "      <th id=\"T_113d1_level0_row1\" class=\"row_heading level0 row1\" >1</th>\n",
       "      <td id=\"T_113d1_row1_col0\" class=\"data row1 col0\" >1.0000</td>\n",
       "      <td id=\"T_113d1_row1_col1\" class=\"data row1 col1\" >1.0000</td>\n",
       "      <td id=\"T_113d1_row1_col2\" class=\"data row1 col2\" >1.0000</td>\n",
       "      <td id=\"T_113d1_row1_col3\" class=\"data row1 col3\" >1.0000</td>\n",
       "      <td id=\"T_113d1_row1_col4\" class=\"data row1 col4\" >1.0000</td>\n",
       "      <td id=\"T_113d1_row1_col5\" class=\"data row1 col5\" >1.0000</td>\n",
       "      <td id=\"T_113d1_row1_col6\" class=\"data row1 col6\" >1.0000</td>\n",
       "    </tr>\n",
       "    <tr>\n",
       "      <th id=\"T_113d1_level0_row2\" class=\"row_heading level0 row2\" >2</th>\n",
       "      <td id=\"T_113d1_row2_col0\" class=\"data row2 col0\" >0.9750</td>\n",
       "      <td id=\"T_113d1_row2_col1\" class=\"data row2 col1\" >0.9973</td>\n",
       "      <td id=\"T_113d1_row2_col2\" class=\"data row2 col2\" >0.9750</td>\n",
       "      <td id=\"T_113d1_row2_col3\" class=\"data row2 col3\" >0.9760</td>\n",
       "      <td id=\"T_113d1_row2_col4\" class=\"data row2 col4\" >0.9748</td>\n",
       "      <td id=\"T_113d1_row2_col5\" class=\"data row2 col5\" >0.9459</td>\n",
       "      <td id=\"T_113d1_row2_col6\" class=\"data row2 col6\" >0.9473</td>\n",
       "    </tr>\n",
       "    <tr>\n",
       "      <th id=\"T_113d1_level0_row3\" class=\"row_heading level0 row3\" >3</th>\n",
       "      <td id=\"T_113d1_row3_col0\" class=\"data row3 col0\" >0.9750</td>\n",
       "      <td id=\"T_113d1_row3_col1\" class=\"data row3 col1\" >0.9973</td>\n",
       "      <td id=\"T_113d1_row3_col2\" class=\"data row3 col2\" >0.9750</td>\n",
       "      <td id=\"T_113d1_row3_col3\" class=\"data row3 col3\" >0.9766</td>\n",
       "      <td id=\"T_113d1_row3_col4\" class=\"data row3 col4\" >0.9751</td>\n",
       "      <td id=\"T_113d1_row3_col5\" class=\"data row3 col5\" >0.9474</td>\n",
       "      <td id=\"T_113d1_row3_col6\" class=\"data row3 col6\" >0.9487</td>\n",
       "    </tr>\n",
       "    <tr>\n",
       "      <th id=\"T_113d1_level0_row4\" class=\"row_heading level0 row4\" >4</th>\n",
       "      <td id=\"T_113d1_row4_col0\" class=\"data row4 col0\" >0.9250</td>\n",
       "      <td id=\"T_113d1_row4_col1\" class=\"data row4 col1\" >0.9907</td>\n",
       "      <td id=\"T_113d1_row4_col2\" class=\"data row4 col2\" >0.9250</td>\n",
       "      <td id=\"T_113d1_row4_col3\" class=\"data row4 col3\" >0.9330</td>\n",
       "      <td id=\"T_113d1_row4_col4\" class=\"data row4 col4\" >0.9230</td>\n",
       "      <td id=\"T_113d1_row4_col5\" class=\"data row4 col5\" >0.8333</td>\n",
       "      <td id=\"T_113d1_row4_col6\" class=\"data row4 col6\" >0.8452</td>\n",
       "    </tr>\n",
       "    <tr>\n",
       "      <th id=\"T_113d1_level0_row5\" class=\"row_heading level0 row5\" >5</th>\n",
       "      <td id=\"T_113d1_row5_col0\" class=\"data row5 col0\" >1.0000</td>\n",
       "      <td id=\"T_113d1_row5_col1\" class=\"data row5 col1\" >1.0000</td>\n",
       "      <td id=\"T_113d1_row5_col2\" class=\"data row5 col2\" >1.0000</td>\n",
       "      <td id=\"T_113d1_row5_col3\" class=\"data row5 col3\" >1.0000</td>\n",
       "      <td id=\"T_113d1_row5_col4\" class=\"data row5 col4\" >1.0000</td>\n",
       "      <td id=\"T_113d1_row5_col5\" class=\"data row5 col5\" >1.0000</td>\n",
       "      <td id=\"T_113d1_row5_col6\" class=\"data row5 col6\" >1.0000</td>\n",
       "    </tr>\n",
       "    <tr>\n",
       "      <th id=\"T_113d1_level0_row6\" class=\"row_heading level0 row6\" >6</th>\n",
       "      <td id=\"T_113d1_row6_col0\" class=\"data row6 col0\" >0.9750</td>\n",
       "      <td id=\"T_113d1_row6_col1\" class=\"data row6 col1\" >0.9507</td>\n",
       "      <td id=\"T_113d1_row6_col2\" class=\"data row6 col2\" >0.9750</td>\n",
       "      <td id=\"T_113d1_row6_col3\" class=\"data row6 col3\" >0.9760</td>\n",
       "      <td id=\"T_113d1_row6_col4\" class=\"data row6 col4\" >0.9748</td>\n",
       "      <td id=\"T_113d1_row6_col5\" class=\"data row6 col5\" >0.9459</td>\n",
       "      <td id=\"T_113d1_row6_col6\" class=\"data row6 col6\" >0.9473</td>\n",
       "    </tr>\n",
       "    <tr>\n",
       "      <th id=\"T_113d1_level0_row7\" class=\"row_heading level0 row7\" >7</th>\n",
       "      <td id=\"T_113d1_row7_col0\" class=\"data row7 col0\" >0.9750</td>\n",
       "      <td id=\"T_113d1_row7_col1\" class=\"data row7 col1\" >0.9973</td>\n",
       "      <td id=\"T_113d1_row7_col2\" class=\"data row7 col2\" >0.9750</td>\n",
       "      <td id=\"T_113d1_row7_col3\" class=\"data row7 col3\" >0.9766</td>\n",
       "      <td id=\"T_113d1_row7_col4\" class=\"data row7 col4\" >0.9751</td>\n",
       "      <td id=\"T_113d1_row7_col5\" class=\"data row7 col5\" >0.9474</td>\n",
       "      <td id=\"T_113d1_row7_col6\" class=\"data row7 col6\" >0.9487</td>\n",
       "    </tr>\n",
       "    <tr>\n",
       "      <th id=\"T_113d1_level0_row8\" class=\"row_heading level0 row8\" >8</th>\n",
       "      <td id=\"T_113d1_row8_col0\" class=\"data row8 col0\" >1.0000</td>\n",
       "      <td id=\"T_113d1_row8_col1\" class=\"data row8 col1\" >1.0000</td>\n",
       "      <td id=\"T_113d1_row8_col2\" class=\"data row8 col2\" >1.0000</td>\n",
       "      <td id=\"T_113d1_row8_col3\" class=\"data row8 col3\" >1.0000</td>\n",
       "      <td id=\"T_113d1_row8_col4\" class=\"data row8 col4\" >1.0000</td>\n",
       "      <td id=\"T_113d1_row8_col5\" class=\"data row8 col5\" >1.0000</td>\n",
       "      <td id=\"T_113d1_row8_col6\" class=\"data row8 col6\" >1.0000</td>\n",
       "    </tr>\n",
       "    <tr>\n",
       "      <th id=\"T_113d1_level0_row9\" class=\"row_heading level0 row9\" >9</th>\n",
       "      <td id=\"T_113d1_row9_col0\" class=\"data row9 col0\" >0.9744</td>\n",
       "      <td id=\"T_113d1_row9_col1\" class=\"data row9 col1\" >0.9986</td>\n",
       "      <td id=\"T_113d1_row9_col2\" class=\"data row9 col2\" >0.9744</td>\n",
       "      <td id=\"T_113d1_row9_col3\" class=\"data row9 col3\" >0.9753</td>\n",
       "      <td id=\"T_113d1_row9_col4\" class=\"data row9 col4\" >0.9741</td>\n",
       "      <td id=\"T_113d1_row9_col5\" class=\"data row9 col5\" >0.9434</td>\n",
       "      <td id=\"T_113d1_row9_col6\" class=\"data row9 col6\" >0.9449</td>\n",
       "    </tr>\n",
       "    <tr>\n",
       "      <th id=\"T_113d1_level0_row10\" class=\"row_heading level0 row10\" >Mean</th>\n",
       "      <td id=\"T_113d1_row10_col0\" class=\"data row10 col0\" >0.9799</td>\n",
       "      <td id=\"T_113d1_row10_col1\" class=\"data row10 col1\" >0.9932</td>\n",
       "      <td id=\"T_113d1_row10_col2\" class=\"data row10 col2\" >0.9799</td>\n",
       "      <td id=\"T_113d1_row10_col3\" class=\"data row10 col3\" >0.9813</td>\n",
       "      <td id=\"T_113d1_row10_col4\" class=\"data row10 col4\" >0.9797</td>\n",
       "      <td id=\"T_113d1_row10_col5\" class=\"data row10 col5\" >0.9563</td>\n",
       "      <td id=\"T_113d1_row10_col6\" class=\"data row10 col6\" >0.9582</td>\n",
       "    </tr>\n",
       "    <tr>\n",
       "      <th id=\"T_113d1_level0_row11\" class=\"row_heading level0 row11\" >Std</th>\n",
       "      <td id=\"T_113d1_row11_col0\" class=\"data row11 col0\" >0.0218</td>\n",
       "      <td id=\"T_113d1_row11_col1\" class=\"data row11 col1\" >0.0144</td>\n",
       "      <td id=\"T_113d1_row11_col2\" class=\"data row11 col2\" >0.0218</td>\n",
       "      <td id=\"T_113d1_row11_col3\" class=\"data row11 col3\" >0.0197</td>\n",
       "      <td id=\"T_113d1_row11_col4\" class=\"data row11 col4\" >0.0223</td>\n",
       "      <td id=\"T_113d1_row11_col5\" class=\"data row11 col5\" >0.0483</td>\n",
       "      <td id=\"T_113d1_row11_col6\" class=\"data row11 col6\" >0.0451</td>\n",
       "    </tr>\n",
       "  </tbody>\n",
       "</table>\n"
      ],
      "text/plain": [
       "<pandas.io.formats.style.Styler at 0x1d3ad05bb20>"
      ]
     },
     "metadata": {},
     "output_type": "display_data"
    },
    {
     "data": {
      "text/html": [],
      "text/plain": [
       "<IPython.core.display.HTML object>"
      ]
     },
     "metadata": {},
     "output_type": "display_data"
    }
   ],
   "source": [
    "# Train model\n",
    "model = exp.create_model(\"et\")"
   ]
  },
  {
   "cell_type": "code",
   "execution_count": null,
   "id": "b6dfb696-e8d2-469e-83e9-075c0ccc66b7",
   "metadata": {},
   "outputs": [],
   "source": []
  },
  {
   "cell_type": "markdown",
   "id": "abd57349-ccff-4978-b232-f6e1f204ab7e",
   "metadata": {},
   "source": [
    "## Deploy as a dashboard\n",
    "\n",
    "* According to documentation they are planning to add streamlit as another for option for the dashboard."
   ]
  },
  {
   "cell_type": "code",
   "execution_count": 4,
   "id": "25773013-4bb8-4869-9480-1168ed04d296",
   "metadata": {},
   "outputs": [
    {
     "name": "stdout",
     "output_type": "stream",
     "text": [
      "Running on local URL:  http://127.0.0.1:7860\n",
      "\n",
      "To create a public link, set `share=True` in `launch()`.\n"
     ]
    },
    {
     "data": {
      "text/html": [
       "<div><iframe src=\"http://127.0.0.1:7860/\" width=\"100%\" height=\"500\" allow=\"autoplay; camera; microphone; clipboard-read; clipboard-write;\" frameborder=\"0\" allowfullscreen></iframe></div>"
      ],
      "text/plain": [
       "<IPython.core.display.HTML object>"
      ]
     },
     "metadata": {},
     "output_type": "display_data"
    },
    {
     "data": {
      "text/plain": []
     },
     "execution_count": 4,
     "metadata": {},
     "output_type": "execute_result"
    }
   ],
   "source": [
    "exp.create_app(model, app_kwargs=None)"
   ]
  },
  {
   "cell_type": "markdown",
   "id": "c000c4e2-94e4-4e7c-b1b5-14a2f78e47f0",
   "metadata": {},
   "source": [
    "## Deploy as API\n",
    "\n",
    "* PyCaret can be used for generating an endpoint using FastAPI."
   ]
  },
  {
   "cell_type": "code",
   "execution_count": 4,
   "id": "b40466bf-6713-4e4e-a045-62faf89a9d4b",
   "metadata": {},
   "outputs": [
    {
     "name": "stdout",
     "output_type": "stream",
     "text": [
      "API successfully created. This function only creates a POST API, it doesn't run it automatically. To run your API, please run this command --> !python ml_api.py\n"
     ]
    }
   ],
   "source": [
    "exp.create_api(model, \"ml_api\",port=8080)"
   ]
  },
  {
   "cell_type": "markdown",
   "id": "09b36731-c177-4ee5-b1d1-a912f76ff685",
   "metadata": {},
   "source": [
    "## Deploy as container\n",
    "\n",
    "* Create a docker file to use the API created with `create_api`.\n",
    "* It also creates the requirements file.\n",
    "* The created docker file will deploy the API."
   ]
  },
  {
   "cell_type": "code",
   "execution_count": 5,
   "id": "82078db2-ab09-48fb-9491-5068ab82e3d2",
   "metadata": {},
   "outputs": [
    {
     "name": "stdout",
     "output_type": "stream",
     "text": [
      "Writing requirements.txt\n",
      "Writing Dockerfile\n",
      "Dockerfile and requirements.txt successfully created.\n",
      "    To build image you have to run --> !docker image build -f \"Dockerfile\" -t IMAGE_NAME:IMAGE_TAG .\n",
      "            \n"
     ]
    }
   ],
   "source": [
    "exp.create_docker(\"ml_api\")"
   ]
  },
  {
   "cell_type": "code",
   "execution_count": null,
   "id": "0a4f7a47-ce5d-485b-819e-8ecb988d6dea",
   "metadata": {},
   "outputs": [],
   "source": []
  }
 ],
 "metadata": {
  "kernelspec": {
   "display_name": "Python 3 (ipykernel)",
   "language": "python",
   "name": "python3"
  },
  "language_info": {
   "codemirror_mode": {
    "name": "ipython",
    "version": 3
   },
   "file_extension": ".py",
   "mimetype": "text/x-python",
   "name": "python",
   "nbconvert_exporter": "python",
   "pygments_lexer": "ipython3",
   "version": "3.9.18"
  }
 },
 "nbformat": 4,
 "nbformat_minor": 5
}
